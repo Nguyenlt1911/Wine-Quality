{
 "cells": [
  {
   "cell_type": "code",
   "execution_count": 1,
   "metadata": {
    "colab": {
     "base_uri": "https://localhost:8080/"
    },
    "executionInfo": {
     "elapsed": 19227,
     "status": "ok",
     "timestamp": 1698355357388,
     "user": {
      "displayName": "Thảo Nguyên Lê",
      "userId": "06957836060884763772"
     },
     "user_tz": -120
    },
    "id": "ZDepIAHmTC8L",
    "outputId": "36bfe299-9b29-476d-d978-7680fdecefc0"
   },
   "outputs": [
    {
     "name": "stdout",
     "output_type": "stream",
     "text": [
      "Mounted at /content/drive\n"
     ]
    }
   ],
   "source": [
    "#from google.colab import drive\n",
    "#drive.mount('/content/drive')"
   ]
  },
  {
   "cell_type": "code",
   "execution_count": 2,
   "metadata": {
    "colab": {
     "base_uri": "https://localhost:8080/"
    },
    "executionInfo": {
     "elapsed": 378,
     "status": "ok",
     "timestamp": 1698355357762,
     "user": {
      "displayName": "Thảo Nguyên Lê",
      "userId": "06957836060884763772"
     },
     "user_tz": -120
    },
    "id": "E6BfGkIHXDpz",
    "outputId": "33fcb130-d6e1-4252-920e-8cbc338621be"
   },
   "outputs": [
    {
     "name": "stdout",
     "output_type": "stream",
     "text": [
      "/content/drive/MyDrive/Colab Notebooks\n",
      "'11. Linear Reagression'   data_linear.csv\t     housing_names.csv\t    name_list.csv\n",
      " C12.ipynb\t\t   data_linear_missing.csv   L1.ipynb\t\t    u2.ipynb\n",
      " C4.ipynb\t\t   dataset.csv\t\t     L2.ipynb\t\t    Untitled0.ipynb\n",
      " C6.ipynb\t\t   housing.data\t\t     L3.ipynb\t\t    Untitled1.ipynb\n",
      " C7_numpy.ipynb\t\t   housing_data.csv\t     LR.ipynb\t\t    winequality-white.csv\n",
      " C8_9.ipynb\t\t   housing.names\t    'Mini Project Pandas'\n"
     ]
    }
   ],
   "source": [
    "#%cd /content/drive/MyDrive/Colab Notebooks\n",
    "#!ls"
   ]
  },
  {
   "cell_type": "code",
   "execution_count": 1,
   "metadata": {
    "executionInfo": {
     "elapsed": 8023,
     "status": "ok",
     "timestamp": 1698355365782,
     "user": {
      "displayName": "Thảo Nguyên Lê",
      "userId": "06957836060884763772"
     },
     "user_tz": -120
    },
    "id": "DKpayb2fXHJT"
   },
   "outputs": [],
   "source": [
    "import numpy as np\n",
    "from numpy import arange\n",
    "from matplotlib import pyplot\n",
    "import pandas as pd\n",
    "from pandas import read_csv\n",
    "from pandas import set_option\n",
    "# from pandas.tools.plotting import scatter_matrix\n",
    "from sklearn.preprocessing import StandardScaler\n",
    "from sklearn.model_selection import train_test_split\n",
    "from sklearn.model_selection import KFold\n",
    "from sklearn.model_selection import cross_val_score\n",
    "from sklearn.model_selection import GridSearchCV\n",
    "from sklearn.linear_model import LinearRegression\n",
    "from sklearn.linear_model import Lasso\n",
    "from sklearn.linear_model import ElasticNet\n",
    "from sklearn.tree import DecisionTreeRegressor\n",
    "from sklearn.neighbors import KNeighborsRegressor\n",
    "from sklearn.svm import SVR\n",
    "from sklearn.pipeline import Pipeline\n",
    "from sklearn.ensemble import RandomForestRegressor\n",
    "from sklearn.ensemble import GradientBoostingRegressor\n",
    "from sklearn.ensemble import ExtraTreesRegressor\n",
    "from sklearn.ensemble import AdaBoostRegressor\n",
    "from sklearn.metrics import mean_squared_error\n",
    "from sklearn import preprocessing\n",
    "import seaborn as sns\n",
    "import matplotlib.pyplot as plt"
   ]
  },
  {
   "cell_type": "code",
   "execution_count": 2,
   "metadata": {
    "colab": {
     "base_uri": "https://localhost:8080/",
     "height": 206
    },
    "executionInfo": {
     "elapsed": 412,
     "status": "ok",
     "timestamp": 1698355366192,
     "user": {
      "displayName": "Thảo Nguyên Lê",
      "userId": "06957836060884763772"
     },
     "user_tz": -120
    },
    "id": "KuXeSNfjYNXU",
    "outputId": "4a30d5c5-be3d-4f79-80c5-4437a1bc1690"
   },
   "outputs": [
    {
     "data": {
      "text/html": [
       "<div>\n",
       "<style scoped>\n",
       "    .dataframe tbody tr th:only-of-type {\n",
       "        vertical-align: middle;\n",
       "    }\n",
       "\n",
       "    .dataframe tbody tr th {\n",
       "        vertical-align: top;\n",
       "    }\n",
       "\n",
       "    .dataframe thead th {\n",
       "        text-align: right;\n",
       "    }\n",
       "</style>\n",
       "<table border=\"1\" class=\"dataframe\">\n",
       "  <thead>\n",
       "    <tr style=\"text-align: right;\">\n",
       "      <th></th>\n",
       "      <th>fixed acidity</th>\n",
       "      <th>volatile acidity</th>\n",
       "      <th>citric acid</th>\n",
       "      <th>residual sugar</th>\n",
       "      <th>chlorides</th>\n",
       "      <th>free sulfur dioxide</th>\n",
       "      <th>total sulfur dioxide</th>\n",
       "      <th>density</th>\n",
       "      <th>pH</th>\n",
       "      <th>sulphates</th>\n",
       "      <th>alcohol</th>\n",
       "      <th>quality</th>\n",
       "    </tr>\n",
       "  </thead>\n",
       "  <tbody>\n",
       "    <tr>\n",
       "      <th>0</th>\n",
       "      <td>7.0</td>\n",
       "      <td>0.27</td>\n",
       "      <td>0.36</td>\n",
       "      <td>20.7</td>\n",
       "      <td>0.045</td>\n",
       "      <td>45.0</td>\n",
       "      <td>170.0</td>\n",
       "      <td>1.0010</td>\n",
       "      <td>3.00</td>\n",
       "      <td>0.45</td>\n",
       "      <td>8.8</td>\n",
       "      <td>6</td>\n",
       "    </tr>\n",
       "    <tr>\n",
       "      <th>1</th>\n",
       "      <td>6.3</td>\n",
       "      <td>0.30</td>\n",
       "      <td>0.34</td>\n",
       "      <td>1.6</td>\n",
       "      <td>0.049</td>\n",
       "      <td>14.0</td>\n",
       "      <td>132.0</td>\n",
       "      <td>0.9940</td>\n",
       "      <td>3.30</td>\n",
       "      <td>0.49</td>\n",
       "      <td>9.5</td>\n",
       "      <td>6</td>\n",
       "    </tr>\n",
       "    <tr>\n",
       "      <th>2</th>\n",
       "      <td>8.1</td>\n",
       "      <td>0.28</td>\n",
       "      <td>0.40</td>\n",
       "      <td>6.9</td>\n",
       "      <td>0.050</td>\n",
       "      <td>30.0</td>\n",
       "      <td>97.0</td>\n",
       "      <td>0.9951</td>\n",
       "      <td>3.26</td>\n",
       "      <td>0.44</td>\n",
       "      <td>10.1</td>\n",
       "      <td>6</td>\n",
       "    </tr>\n",
       "    <tr>\n",
       "      <th>3</th>\n",
       "      <td>7.2</td>\n",
       "      <td>0.23</td>\n",
       "      <td>0.32</td>\n",
       "      <td>8.5</td>\n",
       "      <td>0.058</td>\n",
       "      <td>47.0</td>\n",
       "      <td>186.0</td>\n",
       "      <td>0.9956</td>\n",
       "      <td>3.19</td>\n",
       "      <td>0.40</td>\n",
       "      <td>9.9</td>\n",
       "      <td>6</td>\n",
       "    </tr>\n",
       "    <tr>\n",
       "      <th>4</th>\n",
       "      <td>7.2</td>\n",
       "      <td>0.23</td>\n",
       "      <td>0.32</td>\n",
       "      <td>8.5</td>\n",
       "      <td>0.058</td>\n",
       "      <td>47.0</td>\n",
       "      <td>186.0</td>\n",
       "      <td>0.9956</td>\n",
       "      <td>3.19</td>\n",
       "      <td>0.40</td>\n",
       "      <td>9.9</td>\n",
       "      <td>6</td>\n",
       "    </tr>\n",
       "  </tbody>\n",
       "</table>\n",
       "</div>"
      ],
      "text/plain": [
       "   fixed acidity  volatile acidity  citric acid  residual sugar  chlorides  \\\n",
       "0            7.0              0.27         0.36            20.7      0.045   \n",
       "1            6.3              0.30         0.34             1.6      0.049   \n",
       "2            8.1              0.28         0.40             6.9      0.050   \n",
       "3            7.2              0.23         0.32             8.5      0.058   \n",
       "4            7.2              0.23         0.32             8.5      0.058   \n",
       "\n",
       "   free sulfur dioxide  total sulfur dioxide  density    pH  sulphates  \\\n",
       "0                 45.0                 170.0   1.0010  3.00       0.45   \n",
       "1                 14.0                 132.0   0.9940  3.30       0.49   \n",
       "2                 30.0                  97.0   0.9951  3.26       0.44   \n",
       "3                 47.0                 186.0   0.9956  3.19       0.40   \n",
       "4                 47.0                 186.0   0.9956  3.19       0.40   \n",
       "\n",
       "   alcohol  quality  \n",
       "0      8.8        6  \n",
       "1      9.5        6  \n",
       "2     10.1        6  \n",
       "3      9.9        6  \n",
       "4      9.9        6  "
      ]
     },
     "execution_count": 2,
     "metadata": {},
     "output_type": "execute_result"
    }
   ],
   "source": [
    "dataset = pd.read_csv('winequality-white.csv',sep = ';')\n",
    "dataset.head()"
   ]
  },
  {
   "cell_type": "code",
   "execution_count": 3,
   "metadata": {
    "colab": {
     "base_uri": "https://localhost:8080/"
    },
    "executionInfo": {
     "elapsed": 18,
     "status": "ok",
     "timestamp": 1698355366192,
     "user": {
      "displayName": "Thảo Nguyên Lê",
      "userId": "06957836060884763772"
     },
     "user_tz": -120
    },
    "id": "-Kxea_taYZYK",
    "outputId": "263338f3-2f17-4c9d-fa0a-bc11e7a022b6"
   },
   "outputs": [
    {
     "data": {
      "text/plain": [
       "(4898, 12)"
      ]
     },
     "execution_count": 3,
     "metadata": {},
     "output_type": "execute_result"
    }
   ],
   "source": [
    "dataset.shape"
   ]
  },
  {
   "cell_type": "code",
   "execution_count": 4,
   "metadata": {
    "colab": {
     "base_uri": "https://localhost:8080/"
    },
    "executionInfo": {
     "elapsed": 16,
     "status": "ok",
     "timestamp": 1698355366192,
     "user": {
      "displayName": "Thảo Nguyên Lê",
      "userId": "06957836060884763772"
     },
     "user_tz": -120
    },
    "id": "VXevdhj8ZBXu",
    "outputId": "51dc6dd7-9d9e-4ee5-9e4b-363653d884c0"
   },
   "outputs": [
    {
     "data": {
      "text/plain": [
       "fixed acidity           float64\n",
       "volatile acidity        float64\n",
       "citric acid             float64\n",
       "residual sugar          float64\n",
       "chlorides               float64\n",
       "free sulfur dioxide     float64\n",
       "total sulfur dioxide    float64\n",
       "density                 float64\n",
       "pH                      float64\n",
       "sulphates               float64\n",
       "alcohol                 float64\n",
       "quality                   int64\n",
       "dtype: object"
      ]
     },
     "execution_count": 4,
     "metadata": {},
     "output_type": "execute_result"
    }
   ],
   "source": [
    "dataset.dtypes"
   ]
  },
  {
   "cell_type": "code",
   "execution_count": 5,
   "metadata": {
    "colab": {
     "base_uri": "https://localhost:8080/"
    },
    "executionInfo": {
     "elapsed": 246,
     "status": "ok",
     "timestamp": 1698355366424,
     "user": {
      "displayName": "Thảo Nguyên Lê",
      "userId": "06957836060884763772"
     },
     "user_tz": -120
    },
    "id": "3vaXCuBEZEGh",
    "outputId": "79f9cd3e-4ff7-41d4-d6de-b21eef80b58c"
   },
   "outputs": [
    {
     "name": "stdout",
     "output_type": "stream",
     "text": [
      "       fixed acidity  volatile acidity  citric acid  residual sugar  \\\n",
      "count        4898.00           4898.00      4898.00         4898.00   \n",
      "mean            6.85              0.28         0.33            6.39   \n",
      "std             0.84              0.10         0.12            5.07   \n",
      "min             3.80              0.08         0.00            0.60   \n",
      "25%             6.30              0.21         0.27            1.70   \n",
      "50%             6.80              0.26         0.32            5.20   \n",
      "75%             7.30              0.32         0.39            9.90   \n",
      "max            14.20              1.10         1.66           65.80   \n",
      "\n",
      "       chlorides  free sulfur dioxide  total sulfur dioxide   density  \\\n",
      "count   4.90e+03              4898.00               4898.00  4.90e+03   \n",
      "mean    4.58e-02                35.31                138.36  9.94e-01   \n",
      "std     2.18e-02                17.01                 42.50  2.99e-03   \n",
      "min     9.00e-03                 2.00                  9.00  9.87e-01   \n",
      "25%     3.60e-02                23.00                108.00  9.92e-01   \n",
      "50%     4.30e-02                34.00                134.00  9.94e-01   \n",
      "75%     5.00e-02                46.00                167.00  9.96e-01   \n",
      "max     3.46e-01               289.00                440.00  1.04e+00   \n",
      "\n",
      "            pH  sulphates  alcohol  quality  \n",
      "count  4898.00    4898.00  4898.00  4898.00  \n",
      "mean      3.19       0.49    10.51     5.88  \n",
      "std       0.15       0.11     1.23     0.89  \n",
      "min       2.72       0.22     8.00     3.00  \n",
      "25%       3.09       0.41     9.50     5.00  \n",
      "50%       3.18       0.47    10.40     6.00  \n",
      "75%       3.28       0.55    11.40     6.00  \n",
      "max       3.82       1.08    14.20     9.00  \n"
     ]
    }
   ],
   "source": [
    "# descriptions\n",
    "set_option('display.precision', 2)\n",
    "print(dataset.describe())"
   ]
  },
  {
   "cell_type": "code",
   "execution_count": 6,
   "metadata": {
    "colab": {
     "base_uri": "https://localhost:8080/",
     "height": 1000
    },
    "executionInfo": {
     "elapsed": 7431,
     "status": "ok",
     "timestamp": 1698355373847,
     "user": {
      "displayName": "Thảo Nguyên Lê",
      "userId": "06957836060884763772"
     },
     "user_tz": -120
    },
    "id": "Mt3GOrWYaAaj",
    "outputId": "e918196b-91f6-4e27-ed60-3e3ba725d986"
   },
   "outputs": [
    {
     "data": {
      "image/png": "[encoded data removed]",
      "text/plain": [
       "<Figure size 1200x1000 with 12 Axes>"
      ]
     },
     "metadata": {},
     "output_type": "display_data"
    }
   ],
   "source": [
    "fig, axs = plt.subplots(ncols=6, nrows=2, figsize=(12, 10))\n",
    "index = 0\n",
    "axs = axs.flatten()\n",
    "for k,v in dataset.items():\n",
    "    sns.boxplot(y=k, data=dataset, ax=axs[index])\n",
    "    index += 1\n",
    "plt.tight_layout(pad=1, w_pad=2, h_pad=4)"
   ]
  },
  {
   "cell_type": "code",
   "execution_count": 7,
   "metadata": {
    "colab": {
     "base_uri": "https://localhost:8080/"
    },
    "executionInfo": {
     "elapsed": 23,
     "status": "ok",
     "timestamp": 1698355373847,
     "user": {
      "displayName": "Thảo Nguyên Lê",
      "userId": "06957836060884763772"
     },
     "user_tz": -120
    },
    "id": "FF_Rrs12bBQj",
    "outputId": "eeb040da-3a68-4547-fcb1-ad0224f96f22"
   },
   "outputs": [
    {
     "name": "stdout",
     "output_type": "stream",
     "text": [
      "Column fixed acidity outliers = 2.98%\n",
      "Column volatile acidity outliers = 3.80%\n",
      "Column citric acid outliers = 5.51%\n",
      "Column residual sugar outliers = 0.14%\n",
      "Column chlorides outliers = 4.25%\n",
      "Column free sulfur dioxide outliers = 1.02%\n",
      "Column total sulfur dioxide outliers = 0.39%\n",
      "Column density outliers = 0.10%\n",
      "Column pH outliers = 1.53%\n",
      "Column sulphates outliers = 2.53%\n",
      "Column alcohol outliers = 0.00%\n",
      "Column quality outliers = 4.08%\n"
     ]
    }
   ],
   "source": [
    "for k, v in dataset.items():\n",
    "  q1 = v.quantile(0.25)\n",
    "  q3 = v.quantile(0.75)\n",
    "  irq = q3 - q1\n",
    "  v_col = v[(v <= q1 - 1.5 * irq) | (v >= q3 + 1.5 * irq)]\n",
    "  perc = np.shape(v_col)[0] * 100.0 / np.shape(dataset)[0]\n",
    "  print(\"Column %s outliers = %.2f%%\" % (k, perc))"
   ]
  },
  {
   "cell_type": "code",
   "execution_count": null,
   "metadata": {
    "colab": {
     "base_uri": "https://localhost:8080/",
     "height": 1000
    },
    "executionInfo": {
     "elapsed": 15476,
     "status": "ok",
     "timestamp": 1698355389660,
     "user": {
      "displayName": "Thảo Nguyên Lê",
      "userId": "06957836060884763772"
     },
     "user_tz": -120
    },
    "id": "TeBKviL9bEQr",
    "outputId": "af61d898-7605-4a40-ad8c-6be6347745ec"
   },
   "outputs": [],
   "source": [
    "fig, axs = plt.subplots(ncols=6, nrows=2, figsize=(20, 10))\n",
    "index = 0\n",
    "axs = axs.flatten()\n",
    "for k,v in dataset.items():\n",
    "    sns.distplot(v, ax=axs[index])\n",
    "    index += 1\n",
    "plt.tight_layout(pad=0.4, w_pad=0.5, h_pad=5.0)\n",
    "plt.plot()"
   ]
  },
  {
   "cell_type": "code",
   "execution_count": null,
   "metadata": {
    "colab": {
     "base_uri": "https://localhost:8080/",
     "height": 849
    },
    "executionInfo": {
     "elapsed": 2488,
     "status": "ok",
     "timestamp": 1698355392127,
     "user": {
      "displayName": "Thảo Nguyên Lê",
      "userId": "06957836060884763772"
     },
     "user_tz": -120
    },
    "id": "AMhkIq6abrmf",
    "outputId": "686cc6d5-e486-40a1-ec0a-416de94ccb03"
   },
   "outputs": [],
   "source": [
    "# correlation\n",
    "pd.set_option('display.precision', 2)\n",
    "cor = dataset.corr(method='pearson')\n",
    "\n",
    "# select features that have high absolute correlation with output.\n",
    "fig, ax = plt.subplots(figsize=(10,10))         # Sample figsize in inches\n",
    "sns.heatmap(\n",
    "    cor,\n",
    "    vmin=-1, vmax=1, center=0,\n",
    "    cmap=sns.diverging_palette(20, 220, n=200),\n",
    "    square=True,\n",
    "    ax=ax,\n",
    "    annot=True\n",
    ")\n",
    "ax.set_xticklabels(\n",
    "    ax.get_xticklabels(),\n",
    "    rotation=45,\n",
    "    horizontalalignment='right'\n",
    ");"
   ]
  },
  {
   "cell_type": "code",
   "execution_count": null,
   "metadata": {
    "colab": {
     "base_uri": "https://localhost:8080/",
     "height": 371
    },
    "executionInfo": {
     "elapsed": 11630,
     "status": "ok",
     "timestamp": 1698355403753,
     "user": {
      "displayName": "Thảo Nguyên Lê",
      "userId": "06957836060884763772"
     },
     "user_tz": -120
    },
    "id": "CoTuGbgdcirq",
    "outputId": "ba447aa1-cb13-4268-fdd9-474f4cd6f22a"
   },
   "outputs": [],
   "source": [
    "min_max_scaler = preprocessing.MinMaxScaler()\n",
    "column_sels = ['volatile acidity','chlorides', 'total sulfur dioxide',\t'density', 'alcohol']\n",
    "x = dataset.loc[:,column_sels]\n",
    "y = dataset['quality']\n",
    "x = pd.DataFrame(data=min_max_scaler.fit_transform(x), columns=column_sels)\n",
    "fig, axs = plt.subplots(ncols=5, nrows=1, figsize=(20, 5))\n",
    "index = 0\n",
    "axs = axs.flatten()\n",
    "for i, k in enumerate(column_sels):\n",
    "    sns.regplot(y=y, x=x[k], ax=axs[i])\n",
    "plt.tight_layout(pad=2, w_pad=0.5, h_pad=1.0)"
   ]
  },
  {
   "cell_type": "code",
   "execution_count": null,
   "metadata": {
    "executionInfo": {
     "elapsed": 30,
     "status": "ok",
     "timestamp": 1698355403754,
     "user": {
      "displayName": "Thảo Nguyên Lê",
      "userId": "06957836060884763772"
     },
     "user_tz": -120
    },
    "id": "ZCRiJtP9dwoP"
   },
   "outputs": [],
   "source": [
    "array = dataset.values\n",
    "X = array[:,0:11]\n",
    "Y = array[:,11]\n",
    "validation_size = 0.20\n",
    "seed = 42\n",
    "X_train, X_validation, Y_train, Y_validation = train_test_split(X, Y, test_size=validation_size, random_state=seed)"
   ]
  },
  {
   "cell_type": "code",
   "execution_count": null,
   "metadata": {
    "colab": {
     "base_uri": "https://localhost:8080/"
    },
    "executionInfo": {
     "elapsed": 29,
     "status": "ok",
     "timestamp": 1698355403754,
     "user": {
      "displayName": "Thảo Nguyên Lê",
      "userId": "06957836060884763772"
     },
     "user_tz": -120
    },
    "id": "f0ze1kX1eeXg",
    "outputId": "00353937-1975-4dc8-a06c-bcae65603cf7"
   },
   "outputs": [],
   "source": [
    "X_train.shape, X_validation.shape"
   ]
  },
  {
   "cell_type": "code",
   "execution_count": null,
   "metadata": {
    "executionInfo": {
     "elapsed": 27,
     "status": "ok",
     "timestamp": 1698355403754,
     "user": {
      "displayName": "Thảo Nguyên Lê",
      "userId": "06957836060884763772"
     },
     "user_tz": -120
    },
    "id": "-YYKdwlCeia3"
   },
   "outputs": [],
   "source": [
    "# k-fold\n",
    "num_folds = 10\n",
    "seed = 7\n",
    "# neg? mean_squared_error\n",
    "scoring = 'neg_mean_squared_error'"
   ]
  },
  {
   "cell_type": "code",
   "execution_count": null,
   "metadata": {
    "executionInfo": {
     "elapsed": 26,
     "status": "ok",
     "timestamp": 1698355403754,
     "user": {
      "displayName": "Thảo Nguyên Lê",
      "userId": "06957836060884763772"
     },
     "user_tz": -120
    },
    "id": "rAXCp6DQenMv"
   },
   "outputs": [],
   "source": [
    "models = []\n",
    "models.append(('LR', LinearRegression()))\n",
    "models.append(('LASSO', Lasso()))\n",
    "models.append(('EN', ElasticNet()))\n",
    "models.append(('KNN', KNeighborsRegressor()))\n",
    "models.append(('CART', DecisionTreeRegressor()))\n",
    "models.append(('SVR', SVR()))"
   ]
  },
  {
   "cell_type": "code",
   "execution_count": null,
   "metadata": {
    "colab": {
     "base_uri": "https://localhost:8080/"
    },
    "executionInfo": {
     "elapsed": 14101,
     "status": "ok",
     "timestamp": 1698355417829,
     "user": {
      "displayName": "Thảo Nguyên Lê",
      "userId": "06957836060884763772"
     },
     "user_tz": -120
    },
    "id": "wuy-kJPResO-",
    "outputId": "56a570fb-cec2-4b11-ff41-1ecfdfaa39cd"
   },
   "outputs": [],
   "source": [
    "# evaluate each model in turn\n",
    "results = []\n",
    "names = []\n",
    "for name, model in models:\n",
    "  kfold = KFold(n_splits=num_folds, random_state=seed, shuffle = True)\n",
    "  cv_results = cross_val_score(model, X_train, Y_train, cv=kfold, scoring=scoring)\n",
    "  results.append(cv_results)\n",
    "  names.append(name)\n",
    "  msg = \"%s: %f (%f)\" % (name, cv_results.mean(), cv_results.std())\n",
    "  print(msg)"
   ]
  },
  {
   "cell_type": "code",
   "execution_count": null,
   "metadata": {
    "colab": {
     "base_uri": "https://localhost:8080/",
     "height": 930
    },
    "executionInfo": {
     "elapsed": 511,
     "status": "ok",
     "timestamp": 1698355418321,
     "user": {
      "displayName": "Thảo Nguyên Lê",
      "userId": "06957836060884763772"
     },
     "user_tz": -120
    },
    "id": "mdSIBGYSewlI",
    "outputId": "14bc68e1-00ea-4f18-8e15-cd1206912f0e"
   },
   "outputs": [],
   "source": [
    "# Compare Algorithms\n",
    "fig = pyplot.figure(figsize=(10, 10))\n",
    "fig.suptitle('Algorithm Comparison')\n",
    "ax = fig.add_subplot(111)\n",
    "pyplot.boxplot(results)\n",
    "ax.set_xticklabels(names)\n",
    "pyplot.show()"
   ]
  },
  {
   "cell_type": "code",
   "execution_count": null,
   "metadata": {
    "colab": {
     "base_uri": "https://localhost:8080/"
    },
    "executionInfo": {
     "elapsed": 10509,
     "status": "ok",
     "timestamp": 1698355428817,
     "user": {
      "displayName": "Thảo Nguyên Lê",
      "userId": "06957836060884763772"
     },
     "user_tz": -120
    },
    "id": "GKr7fVJ2gDv9",
    "outputId": "c4d79cc2-ab24-4f58-c84c-41f0bb2aa05f"
   },
   "outputs": [],
   "source": [
    "# Standardize the dataset\n",
    "# Normalize dữ liệu thì 1 số thuật toán performance tốt hơn, knn, svr\n",
    "pipelines = []\n",
    "pipelines.append(('ScaledLR', Pipeline([('Scaler', StandardScaler()),('LR',LinearRegression())])))\n",
    "pipelines.append(('ScaledLASSO', Pipeline([('Scaler', StandardScaler()),('LASSO',Lasso())])))\n",
    "pipelines.append(('ScaledEN', Pipeline([('Scaler', StandardScaler()),('EN',ElasticNet())])))\n",
    "pipelines.append(('ScaledKNN', Pipeline([('Scaler', StandardScaler()),('KNN',KNeighborsRegressor())])))\n",
    "pipelines.append(('ScaledCART', Pipeline([('Scaler', StandardScaler()),('CART',DecisionTreeRegressor())])))\n",
    "pipelines.append(('ScaledSVR', Pipeline([('Scaler', StandardScaler()),('SVR', SVR())])))\n",
    "results = []\n",
    "names = []\n",
    "for name, model in pipelines:\n",
    "  kfold = KFold(n_splits=num_folds, random_state=seed, shuffle = True)\n",
    "  cv_results = cross_val_score(model, X_train, Y_train, cv=kfold, scoring=scoring)\n",
    "  results.append(cv_results)\n",
    "  names.append(name)\n",
    "  msg = \"%s: %f (%f)\" % (name, cv_results.mean(), cv_results.std())\n",
    "  print(msg)"
   ]
  },
  {
   "cell_type": "code",
   "execution_count": 20,
   "metadata": {
    "colab": {
     "base_uri": "https://localhost:8080/",
     "height": 930
    },
    "executionInfo": {
     "elapsed": 397,
     "status": "ok",
     "timestamp": 1698355429198,
     "user": {
      "displayName": "Thảo Nguyên Lê",
      "userId": "06957836060884763772"
     },
     "user_tz": -120
    },
    "id": "0Jg_h1C7gorQ",
    "outputId": "aebd44ec-624e-43b1-d92f-0832fbba0595"
   },
   "outputs": [
    {
     "data": {
      "image/png": "[encoded data removed]",
      "text/plain": [
       "<Figure size 1000x1000 with 1 Axes>"
      ]
     },
     "metadata": {},
     "output_type": "display_data"
    }
   ],
   "source": [
    "# Compare Algorithms\n",
    "fig = pyplot.figure(figsize=(10, 10))\n",
    "fig.suptitle('Scaled Algorithm Comparison')\n",
    "ax = fig.add_subplot(111)\n",
    "pyplot.boxplot(results)\n",
    "ax.set_xticklabels(names)\n",
    "pyplot.show()"
   ]
  },
  {
   "cell_type": "code",
   "execution_count": 23,
   "metadata": {
    "colab": {
     "base_uri": "https://localhost:8080/"
    },
    "executionInfo": {
     "elapsed": 435434,
     "status": "ok",
     "timestamp": 1698356829210,
     "user": {
      "displayName": "Thảo Nguyên Lê",
      "userId": "06957836060884763772"
     },
     "user_tz": -120
    },
    "id": "JZRrUFrugykU",
    "outputId": "487ca46f-3b3b-47af-ef8f-58f6af05325a"
   },
   "outputs": [
    {
     "name": "stdout",
     "output_type": "stream",
     "text": [
      "Best: -0.465672 using {'C': 1, 'gamma': 0.5}\n",
      "-0.476712 (0.065397) with: {'C': 1, 'gamma': 1}\n",
      "-0.470884 (0.062767) with: {'C': 1, 'gamma': 0.8}\n",
      "-0.465672 (0.057464) with: {'C': 1, 'gamma': 0.5}\n",
      "-0.480200 (0.052854) with: {'C': 1, 'gamma': 0.1}\n",
      "-0.574767 (0.061961) with: {'C': 1, 'gamma': 0.001}\n",
      "-0.466535 (0.066575) with: {'C': 3, 'gamma': 1}\n",
      "-0.466172 (0.065154) with: {'C': 3, 'gamma': 0.8}\n",
      "-0.474960 (0.062021) with: {'C': 3, 'gamma': 0.5}\n",
      "-0.478108 (0.048642) with: {'C': 3, 'gamma': 0.1}\n",
      "-0.562225 (0.057861) with: {'C': 3, 'gamma': 0.001}\n",
      "-0.467648 (0.067425) with: {'C': 5, 'gamma': 1}\n",
      "-0.468991 (0.066151) with: {'C': 5, 'gamma': 0.8}\n",
      "-0.486515 (0.062768) with: {'C': 5, 'gamma': 0.5}\n",
      "-0.481507 (0.048386) with: {'C': 5, 'gamma': 0.1}\n",
      "-0.556814 (0.055730) with: {'C': 5, 'gamma': 0.001}\n",
      "-0.471125 (0.067896) with: {'C': 20, 'gamma': 1}\n",
      "-0.475220 (0.067797) with: {'C': 20, 'gamma': 0.8}\n",
      "-0.513896 (0.067829) with: {'C': 20, 'gamma': 0.5}\n",
      "-0.523179 (0.053819) with: {'C': 20, 'gamma': 0.1}\n",
      "-0.537580 (0.049312) with: {'C': 20, 'gamma': 0.001}\n",
      "-0.472357 (0.067075) with: {'C': 50, 'gamma': 1}\n",
      "-0.477962 (0.066192) with: {'C': 50, 'gamma': 0.8}\n",
      "-0.526429 (0.069553) with: {'C': 50, 'gamma': 0.5}\n",
      "-0.586144 (0.060883) with: {'C': 50, 'gamma': 0.1}\n",
      "-0.528376 (0.045985) with: {'C': 50, 'gamma': 0.001}\n"
     ]
    }
   ],
   "source": [
    "#SVR Algorithm tuning\n",
    "scaler = StandardScaler().fit(X_train)\n",
    "rescaledX = scaler.transform(X_train)\n",
    "param_grid = {'C': [1, 3, 5, 20, 50], 'gamma': [1,0.8, 0.5, 0.1, 0.001] }\n",
    "model = SVR()\n",
    "kfold = KFold(n_splits=num_folds, random_state=seed, shuffle = True)\n",
    "grid = GridSearchCV(estimator=model, param_grid=param_grid, scoring=scoring, cv=kfold)\n",
    "grid_result = grid.fit(rescaledX, Y_train)\n",
    "print(\"Best: %f using %s\" % (grid_result.best_score_, grid_result.best_params_))\n",
    "means = grid_result.cv_results_['mean_test_score']\n",
    "stds = grid_result.cv_results_['std_test_score']\n",
    "params = grid_result.cv_results_['params']\n",
    "for mean, stdev, param in zip(means, stds, params):\n",
    "  print(\"%f (%f) with: %r\" % (mean, stdev, param))"
   ]
  },
  {
   "cell_type": "code",
   "execution_count": 25,
   "metadata": {
    "colab": {
     "base_uri": "https://localhost:8080/"
    },
    "executionInfo": {
     "elapsed": 55298,
     "status": "ok",
     "timestamp": 1698356924374,
     "user": {
      "displayName": "Thảo Nguyên Lê",
      "userId": "06957836060884763772"
     },
     "user_tz": -120
    },
    "id": "-_Dp2lz_74-S",
    "outputId": "19897f95-c791-42fb-e924-181844e175fb"
   },
   "outputs": [
    {
     "name": "stdout",
     "output_type": "stream",
     "text": [
      "ScaledAB: -0.553763 (0.056187)\n",
      "ScaledGBM: -0.492246 (0.052251)\n",
      "ScaledRF: -0.400900 (0.046379)\n",
      "ScaledET: -0.381346 (0.045376)\n"
     ]
    }
   ],
   "source": [
    "# ensembles\n",
    "ensembles = []\n",
    "# boosting\n",
    "ensembles.append(('ScaledAB', Pipeline([('Scaler', StandardScaler()),('AB', AdaBoostRegressor())])))\n",
    "ensembles.append(('ScaledGBM', Pipeline([('Scaler', StandardScaler()),('GBM', GradientBoostingRegressor())])))\n",
    "# bagging\n",
    "ensembles.append(('ScaledRF', Pipeline([('Scaler', StandardScaler()),('RF',RandomForestRegressor())])))\n",
    "ensembles.append(('ScaledET', Pipeline([('Scaler', StandardScaler()),('ET',ExtraTreesRegressor())])))\n",
    "results = []\n",
    "names = []\n",
    "for name, model in ensembles:\n",
    "  kfold = KFold(n_splits=num_folds, random_state=seed, shuffle = True)\n",
    "  cv_results = cross_val_score(model, X_train, Y_train, cv=kfold, scoring=scoring)\n",
    "  results.append(cv_results)\n",
    "  names.append(name)\n",
    "  msg = \"%s: %f (%f)\" % (name, cv_results.mean(), cv_results.std())\n",
    "  print(msg)"
   ]
  },
  {
   "cell_type": "code",
   "execution_count": 26,
   "metadata": {
    "colab": {
     "base_uri": "https://localhost:8080/",
     "height": 930
    },
    "executionInfo": {
     "elapsed": 650,
     "status": "ok",
     "timestamp": 1698356935736,
     "user": {
      "displayName": "Thảo Nguyên Lê",
      "userId": "06957836060884763772"
     },
     "user_tz": -120
    },
    "id": "ddW8xhI38hZH",
    "outputId": "0190d5e1-44a1-4004-bbc4-bc0fc6d86095"
   },
   "outputs": [
    {
     "data": {
      "image/png": "[encoded data removed]",
      "text/plain": [
       "<Figure size 1000x1000 with 1 Axes>"
      ]
     },
     "metadata": {},
     "output_type": "display_data"
    }
   ],
   "source": [
    "fig = pyplot.figure(figsize=(10, 10))\n",
    "fig.suptitle('Scaled Ensemble Algorithm Comparison')\n",
    "ax = fig.add_subplot(111)\n",
    "pyplot.boxplot(results)\n",
    "ax.set_xticklabels(names)\n",
    "pyplot.show()"
   ]
  },
  {
   "cell_type": "code",
   "execution_count": 29,
   "metadata": {
    "colab": {
     "base_uri": "https://localhost:8080/"
    },
    "executionInfo": {
     "elapsed": 264952,
     "status": "ok",
     "timestamp": 1698357477188,
     "user": {
      "displayName": "Thảo Nguyên Lê",
      "userId": "06957836060884763772"
     },
     "user_tz": -120
    },
    "id": "ZcnpgfRt-SE4",
    "outputId": "b7ae4dc0-ebcc-4d3a-a006-bdc508c0b357"
   },
   "outputs": [
    {
     "name": "stdout",
     "output_type": "stream",
     "text": [
      "Best: -0.457555 using {'n_estimators': 800}\n",
      "-0.503971 (0.054491) with: {'n_estimators': 50}\n",
      "-0.491868 (0.051779) with: {'n_estimators': 100}\n",
      "-0.485455 (0.052535) with: {'n_estimators': 150}\n",
      "-0.476740 (0.052589) with: {'n_estimators': 250}\n",
      "-0.472499 (0.051825) with: {'n_estimators': 300}\n",
      "-0.466624 (0.050763) with: {'n_estimators': 400}\n",
      "-0.463273 (0.050662) with: {'n_estimators': 500}\n",
      "-0.459309 (0.047465) with: {'n_estimators': 650}\n",
      "-0.457555 (0.049543) with: {'n_estimators': 800}\n"
     ]
    }
   ],
   "source": [
    "scaler = StandardScaler().fit(X_train)\n",
    "rescaledX = scaler.transform(X_train)\n",
    "param_grid = dict(n_estimators=np.array([50,100,150,250,300,400,500,650,800]))\n",
    "model = GradientBoostingRegressor(random_state=seed)\n",
    "kfold = KFold(n_splits=num_folds, random_state=seed, shuffle = True)\n",
    "grid = GridSearchCV(estimator=model, param_grid=param_grid, scoring=scoring, cv=kfold)\n",
    "grid_result = grid.fit(rescaledX, Y_train)\n",
    "\n",
    "print(\"Best: %f using %s\" % (grid_result.best_score_, grid_result.best_params_))\n",
    "means = grid_result.cv_results_['mean_test_score']\n",
    "stds = grid_result.cv_results_['std_test_score']\n",
    "params = grid_result.cv_results_['params']\n",
    "for mean, stdev, param in zip(means, stds, params):\n",
    "  print(\"%f (%f) with: %r\" % (mean, stdev, param))"
   ]
  },
  {
   "cell_type": "code",
   "execution_count": 30,
   "metadata": {
    "colab": {
     "base_uri": "https://localhost:8080/",
     "height": 75
    },
    "executionInfo": {
     "elapsed": 11441,
     "status": "ok",
     "timestamp": 1698357498239,
     "user": {
      "displayName": "Thảo Nguyên Lê",
      "userId": "06957836060884763772"
     },
     "user_tz": -120
    },
    "id": "oU8KJcZt31Oj",
    "outputId": "c8b89f5a-bc00-4d16-e7b0-3f0668c312fe"
   },
   "outputs": [
    {
     "data": {
      "text/html": [
       "<style>#sk-container-id-1 {color: black;background-color: white;}#sk-container-id-1 pre{padding: 0;}#sk-container-id-1 div.sk-toggleable {background-color: white;}#sk-container-id-1 label.sk-toggleable__label {cursor: pointer;display: block;width: 100%;margin-bottom: 0;padding: 0.3em;box-sizing: border-box;text-align: center;}#sk-container-id-1 label.sk-toggleable__label-arrow:before {content: \"▸\";float: left;margin-right: 0.25em;color: #696969;}#sk-container-id-1 label.sk-toggleable__label-arrow:hover:before {color: black;}#sk-container-id-1 div.sk-estimator:hover label.sk-toggleable__label-arrow:before {color: black;}#sk-container-id-1 div.sk-toggleable__content {max-height: 0;max-width: 0;overflow: hidden;text-align: left;background-color: #f0f8ff;}#sk-container-id-1 div.sk-toggleable__content pre {margin: 0.2em;color: black;border-radius: 0.25em;background-color: #f0f8ff;}#sk-container-id-1 input.sk-toggleable__control:checked~div.sk-toggleable__content {max-height: 200px;max-width: 100%;overflow: auto;}#sk-container-id-1 input.sk-toggleable__control:checked~label.sk-toggleable__label-arrow:before {content: \"▾\";}#sk-container-id-1 div.sk-estimator input.sk-toggleable__control:checked~label.sk-toggleable__label {background-color: #d4ebff;}#sk-container-id-1 div.sk-label input.sk-toggleable__control:checked~label.sk-toggleable__label {background-color: #d4ebff;}#sk-container-id-1 input.sk-hidden--visually {border: 0;clip: rect(1px 1px 1px 1px);clip: rect(1px, 1px, 1px, 1px);height: 1px;margin: -1px;overflow: hidden;padding: 0;position: absolute;width: 1px;}#sk-container-id-1 div.sk-estimator {font-family: monospace;background-color: #f0f8ff;border: 1px dotted black;border-radius: 0.25em;box-sizing: border-box;margin-bottom: 0.5em;}#sk-container-id-1 div.sk-estimator:hover {background-color: #d4ebff;}#sk-container-id-1 div.sk-parallel-item::after {content: \"\";width: 100%;border-bottom: 1px solid gray;flex-grow: 1;}#sk-container-id-1 div.sk-label:hover label.sk-toggleable__label {background-color: #d4ebff;}#sk-container-id-1 div.sk-serial::before {content: \"\";position: absolute;border-left: 1px solid gray;box-sizing: border-box;top: 0;bottom: 0;left: 50%;z-index: 0;}#sk-container-id-1 div.sk-serial {display: flex;flex-direction: column;align-items: center;background-color: white;padding-right: 0.2em;padding-left: 0.2em;position: relative;}#sk-container-id-1 div.sk-item {position: relative;z-index: 1;}#sk-container-id-1 div.sk-parallel {display: flex;align-items: stretch;justify-content: center;background-color: white;position: relative;}#sk-container-id-1 div.sk-item::before, #sk-container-id-1 div.sk-parallel-item::before {content: \"\";position: absolute;border-left: 1px solid gray;box-sizing: border-box;top: 0;bottom: 0;left: 50%;z-index: -1;}#sk-container-id-1 div.sk-parallel-item {display: flex;flex-direction: column;z-index: 1;position: relative;background-color: white;}#sk-container-id-1 div.sk-parallel-item:first-child::after {align-self: flex-end;width: 50%;}#sk-container-id-1 div.sk-parallel-item:last-child::after {align-self: flex-start;width: 50%;}#sk-container-id-1 div.sk-parallel-item:only-child::after {width: 0;}#sk-container-id-1 div.sk-dashed-wrapped {border: 1px dashed gray;margin: 0 0.4em 0.5em 0.4em;box-sizing: border-box;padding-bottom: 0.4em;background-color: white;}#sk-container-id-1 div.sk-label label {font-family: monospace;font-weight: bold;display: inline-block;line-height: 1.2em;}#sk-container-id-1 div.sk-label-container {text-align: center;}#sk-container-id-1 div.sk-container {/* jupyter's `normalize.less` sets `[hidden] { display: none; }` but bootstrap.min.css set `[hidden] { display: none !important; }` so we also need the `!important` here to be able to override the default hidden behavior on the sphinx rendered scikit-learn.org. See: https://github.com/scikit-learn/scikit-learn/issues/21755 */display: inline-block !important;position: relative;}#sk-container-id-1 div.sk-text-repr-fallback {display: none;}</style><div id=\"sk-container-id-1\" class=\"sk-top-container\"><div class=\"sk-text-repr-fallback\"><pre>GradientBoostingRegressor(n_estimators=800, random_state=7)</pre><b>In a Jupyter environment, please rerun this cell to show the HTML representation or trust the notebook. <br />On GitHub, the HTML representation is unable to render, please try loading this page with nbviewer.org.</b></div><div class=\"sk-container\" hidden><div class=\"sk-item\"><div class=\"sk-estimator sk-toggleable\"><input class=\"sk-toggleable__control sk-hidden--visually\" id=\"sk-estimator-id-1\" type=\"checkbox\" checked><label for=\"sk-estimator-id-1\" class=\"sk-toggleable__label sk-toggleable__label-arrow\">GradientBoostingRegressor</label><div class=\"sk-toggleable__content\"><pre>GradientBoostingRegressor(n_estimators=800, random_state=7)</pre></div></div></div></div></div>"
      ],
      "text/plain": [
       "GradientBoostingRegressor(n_estimators=800, random_state=7)"
      ]
     },
     "execution_count": 30,
     "metadata": {},
     "output_type": "execute_result"
    }
   ],
   "source": [
    "# prepare the model\n",
    "scaler = StandardScaler().fit(X_train)\n",
    "rescaledX = scaler.transform(X_train)\n",
    "model = GradientBoostingRegressor(random_state=seed, n_estimators=800)\n",
    "model.fit(rescaledX, Y_train)"
   ]
  },
  {
   "cell_type": "code",
   "execution_count": 31,
   "metadata": {
    "colab": {
     "base_uri": "https://localhost:8080/"
    },
    "executionInfo": {
     "elapsed": 224,
     "status": "ok",
     "timestamp": 1698357505093,
     "user": {
      "displayName": "Thảo Nguyên Lê",
      "userId": "06957836060884763772"
     },
     "user_tz": -120
    },
    "id": "90AvFhmb5maT",
    "outputId": "9083cdb1-395b-4a98-9ca9-260706258e95"
   },
   "outputs": [
    {
     "name": "stdout",
     "output_type": "stream",
     "text": [
      "0.40324957383845733\n"
     ]
    }
   ],
   "source": [
    "rescaledValidationX = scaler.transform(X_validation)\n",
    "predictions = model.predict(rescaledValidationX)\n",
    "print(mean_squared_error(Y_validation, predictions))"
   ]
  }
 ],
 "metadata": {
  "colab": {
   "authorship_tag": "ABX9TyMCzJ9U+vlVnXiXLyMa/ihX",
   "provenance": []
  },
  "kernelspec": {
   "display_name": "Python 3 (ipykernel)",
   "language": "python",
   "name": "python3"
  },
  "language_info": {
   "codemirror_mode": {
    "name": "ipython",
    "version": 3
   },
   "file_extension": ".py",
   "mimetype": "text/x-python",
   "name": "python",
   "nbconvert_exporter": "python",
   "pygments_lexer": "ipython3",
   "version": "3.10.9"
  }
 },
 "nbformat": 4,
 "nbformat_minor": 1
}
